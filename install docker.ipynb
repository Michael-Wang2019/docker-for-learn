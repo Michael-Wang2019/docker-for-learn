{
 "cells": [
  {
   "cell_type": "markdown",
   "metadata": {},
   "source": [
    "## 安装与镜像操作"
   ]
  },
  {
   "cell_type": "markdown",
   "metadata": {},
   "source": [
    "rz commad install\n",
    ">yum install lrzsz"
   ]
  },
  {
   "cell_type": "markdown",
   "metadata": {},
   "source": [
    "stop firewalld  \n",
    ">systemctl stop firewalld  \n",
    "systemctl disable firewalld  \n",
    "\n"
   ]
  },
  {
   "cell_type": "markdown",
   "metadata": {},
   "source": [
    "install  iptables-services  \n",
    ">yum -y install iptables-services  \n",
    "\n",
    "start iptables  \n",
    ">systemctl start iptables  \n",
    "\n",
    ">systemctl enable iptables 设为开机直接启动  \n",
    "\n"
   ]
  },
  {
   "cell_type": "markdown",
   "metadata": {},
   "source": [
    ">mkdir docker"
   ]
  },
  {
   "cell_type": "markdown",
   "metadata": {},
   "source": [
    ">cd docker  \n",
    "\n",
    "rz docker files"
   ]
  },
  {
   "cell_type": "markdown",
   "metadata": {},
   "source": [
    "install docker files\n",
    "\n",
    ">yum -y install *"
   ]
  },
  {
   "cell_type": "markdown",
   "metadata": {},
   "source": [
    "start docker\n",
    ">systemctl start docker  \n",
    "docker images  \n"
   ]
  },
  {
   "cell_type": "markdown",
   "metadata": {},
   "source": [
    "#### accelerate  confige  \n",
    "copy some files  \n",
    ">cp /lib/systemd/system/docker.service /etc/systemd/system/docker.service  \n",
    "\n",
    "change permission\n",
    ">chmod 777 /etc/systemd/system/docker.service  \n",
    "\n",
    "open docker.service and find execstar\n",
    ">vi /etc/systemd/system/docker.service  \n"
   ]
  },
  {
   "cell_type": "markdown",
   "metadata": {},
   "source": [
    "### my mirror\n",
    "https://xioq66ju.mirror.aliyuncs.com"
   ]
  },
  {
   "cell_type": "markdown",
   "metadata": {},
   "source": [
    "ExecStart=/usr/bin/dockerd --registry-mirror=https://xioq66ju.mirror.aliyuncs.com"
   ]
  },
  {
   "cell_type": "markdown",
   "metadata": {},
   "source": [
    "restart the system\n",
    ">systemctl daemon-reload  \n",
    ">systemctl restart docker\n",
    "\n",
    "check the aliyun\n",
    ">ps -ef | grep docker\n"
   ]
  },
  {
   "cell_type": "markdown",
   "metadata": {},
   "source": [
    "#### 获取镜像\n",
    "docker pull NAME:[TAG]  \n",
    "docker pull ubuntu:18.04  \n",
    "> NAME是镜像仓库名称  \n",
    "TAG是标签，一般用来表示版本信息。  \n",
    "描述一个镜像需要包括“名称+标签”。若不指定tag，则默认选择最新版latest."
   ]
  },
  {
   "cell_type": "markdown",
   "metadata": {},
   "source": [
    "#### 给镜像打tag\n",
    "> docker tag ubuntu:18.10   myubuntu:18.10"
   ]
  },
  {
   "cell_type": "markdown",
   "metadata": {},
   "source": [
    "#### 进入myubuntu系统\n",
    "> docker run -it ubuntu:18.10"
   ]
  },
  {
   "cell_type": "markdown",
   "metadata": {},
   "source": [
    "#### 查看详细信息\n",
    "> docker inspect ubuntu:18.10  \n",
    "可以获取到该镜像的详细信息，包括制作者，内核信息等。"
   ]
  },
  {
   "cell_type": "markdown",
   "metadata": {},
   "source": [
    "#### 搜索镜像\n",
    "> docker search --filter=is-official=true/=starts=4 tensorflow"
   ]
  },
  {
   "cell_type": "markdown",
   "metadata": {},
   "source": [
    "#### 删除和清理镜像\n",
    "`1.使用标签删除镜像`  \n",
    "> docker rmi ubuntu:18.04  \n",
    "docker rmi -f ubuntu:18.04\n",
    "\n",
    "`2.使用镜像ID删除镜像`\n",
    ">若后台有容器依赖于镜像创建的，则需要强制删除用`-f`，不推荐。正确做法是先删除依赖该镜像的容器后，再删除镜像。  \n",
    ">>删除容器  \n",
    "a.查看容器docker ps -a  \n",
    "b.删除容器docker rm `容器ID`  \n",
    "c.删除镜像docker rmi ubuntu:18.04 \n",
    "\n",
    "`3.清理镜像`\n",
    ">docker image prune    \n",
    "docker image prune -a `慎用，会把所有无用镜像全部清理`"
   ]
  },
  {
   "cell_type": "markdown",
   "metadata": {},
   "source": [
    "#### 创建镜像\n",
    "`1.基于已有容器创建`\n",
    ">首先启动一个镜像，并进行修改操作。记住容器ID。\n",
    "<img src=\".\\images\\1.png\" width=\"300\" hegiht=\"100\" align=left />  \n",
    " \n"
   ]
  },
  {
   "cell_type": "markdown",
   "metadata": {},
   "source": [
    ">docker commit -m\"new file\" -a \"michael\" 容器ID test:0.1  \n",
    "其中test为新建镜像名称。0.1为TAG."
   ]
  },
  {
   "cell_type": "markdown",
   "metadata": {},
   "source": [
    "`2.基于本地模版导入`\n",
    ">null"
   ]
  },
  {
   "cell_type": "markdown",
   "metadata": {},
   "source": [
    "`3.基于dockerfile创建`\n",
    ">NULL"
   ]
  },
  {
   "cell_type": "markdown",
   "metadata": {},
   "source": [
    "#### 导出导入镜像\n",
    ">docker save -o mysql.tar mysql-server:latest  \n",
    "将mysql-server:latest导出为mysql.tar\n",
    "\n",
    ">docker load -i/< mysql.tar"
   ]
  },
  {
   "cell_type": "markdown",
   "metadata": {},
   "source": [
    "## 操作docker容器"
   ]
  },
  {
   "cell_type": "markdown",
   "metadata": {},
   "source": [
    "### 创建容器\n",
    "`1.新建容器`\n",
    "> docker create -it --name newone centos:latest  \n",
    "⚠️使用该命令新建的容器是处于停止状态的。  \n",
    "启动容器  \n",
    "docker start `容器ID`\n",
    "\n",
    "`2.新建容器并启动`\n",
    ">docker run centos /bin/echo 'hello'  \n",
    "docker run -it centos /bin/bash *容许用户交互exit退出后，容器也会自动退出。*\n"
   ]
  },
  {
   "cell_type": "markdown",
   "metadata": {},
   "source": [
    "`3.查看后台运行`\n",
    "> 需要后台运行  \n",
    "docker run -d centos /bin/bash  \n",
    "查看docker ps -a 或者 docker container ls"
   ]
  },
  {
   "cell_type": "markdown",
   "metadata": {},
   "source": [
    "`4.查看容器输出`\n",
    "> docker logs `容器ID`"
   ]
  },
  {
   "cell_type": "markdown",
   "metadata": {},
   "source": [
    "### 停止容器\n",
    "`1.暂停/运行容器`\n",
    ">docker run --name test --rm -it centos:latest *启动容器*  \n",
    "docker pause *容器ID*    \n",
    "docker unpause *容器ID* \n",
    "\n",
    "`2.停止容器`\n",
    ">docker stop *容器ID*  \n",
    "docker container prune *清除所有处于停止状态的容器* 也可以用docker kill来强行终止容器。  \n",
    ">> docker ps -qa *查看所有容器ID*  \n",
    "docker start *容器ID* **重新启动容器**\n",
    "\n"
   ]
  },
  {
   "cell_type": "markdown",
   "metadata": {},
   "source": [
    "#### 进入容器\n",
    "当使用-d容器时，容器启动后进入后台，用户无法看到容器中的信息并且无法进行操作。  \n",
    ">`1.attach命令`  \n",
    "docker attach `container id` `进入容器`  \n",
    "该命令缺点是多窗口的时候，所有窗口都会同步显示；  \n",
    "当某个窗口因命令阻塞时，其它窗口也无法执行操作。  \n",
    "`2.exec命令`  \n",
    "docker exec -it `container id` /bin/bash  `通过指定-it参数来保持标准输入打开，并且分配一个伪终端`  \n",
    "\n",
    "\n"
   ]
  },
  {
   "cell_type": "markdown",
   "metadata": {},
   "source": [
    "#### 删除容器 \n",
    "> docker rm `container id` *rm只能删除已经处于终止或退出状态的容器。若要删除一个运行中的容器，需添加-f*"
   ]
  },
  {
   "cell_type": "markdown",
   "metadata": {},
   "source": [
    "### 导入导出容器\n",
    ">docker export -o test.tar `container id` *不论容器是否运行都可导出容器*  \n",
    "docker export > test.tar `container id`  \n",
    "\n",
    ">docker import test.tar - test:v1.0"
   ]
  },
  {
   "cell_type": "markdown",
   "metadata": {},
   "source": [
    "### 查看容器\n",
    "`查看容器详情`\n",
    ">docker container inspect `container id` *以json格式返回容器ID，路径，镜像，状态等信息*  \n",
    "docker top `container id` *打印出容器内的进程信息*   \n",
    "docker stats `container id` *显示CPU,内存，存储等统计信息* \n"
   ]
  },
  {
   "cell_type": "markdown",
   "metadata": {},
   "source": [
    "`其它命令`  \n",
    ">docker cp test.tar  /root `将test.tar复制到/root`  \n",
    "docker container diff test `查看变更`  \n",
    "docker container post `container ID` `查看端口映射情况`  \n",
    "docker update ... `更新配置`"
   ]
  },
  {
   "cell_type": "code",
   "execution_count": null,
   "metadata": {},
   "outputs": [],
   "source": []
  }
 ],
 "metadata": {
  "kernelspec": {
   "display_name": "Python 3",
   "language": "python",
   "name": "python3"
  },
  "language_info": {
   "codemirror_mode": {
    "name": "ipython",
    "version": 3
   },
   "file_extension": ".py",
   "mimetype": "text/x-python",
   "name": "python",
   "nbconvert_exporter": "python",
   "pygments_lexer": "ipython3",
   "version": "3.6.5"
  }
 },
 "nbformat": 4,
 "nbformat_minor": 2
}
