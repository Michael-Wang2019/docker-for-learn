{
 "cells": [
  {
   "cell_type": "markdown",
   "metadata": {},
   "source": [
    "install harbor and mv\n",
    "> mv harbor /usr/local"
   ]
  },
  {
   "cell_type": "markdown",
   "metadata": {},
   "source": [
    "生成证书\n",
    "> openssl genrsa -des3 -out server.key 2048 （密码123456）\n",
    "\n",
    "创建证书请求\n",
    ">openssl req -new -key server.key -out server.csr\n",
    "\n",
    "因为我们nginx在docker里使用，所以不能写密码，退密钥\n",
    ">cp server.key server.key.org  \n",
    ">openssl rsa -in server.key.org -out server.key  \n",
    "\n",
    "\n",
    "创建证书\n",
    ">openssl x509 -req -days 365 -in server.csr -signkey server.key -out server.crt  \n",
    ">mv server.* /data/cert  \n",
    "\n",
    "\n",
    "\n",
    "\n"
   ]
  },
  {
   "cell_type": "markdown",
   "metadata": {},
   "source": [
    "修改harbor.cfg     modify harbor config files. the install.sh will use it  \n",
    "the harbor.cfg  in the /usr/local/harbor  \n",
    ">vi harbor.cfg  \n",
    "\n",
    "modification hastname  \n",
    "Hostname:目标的主机名或者完全限定域名  \n",
    "ui_url_protocol:http或https"
   ]
  },
  {
   "cell_type": "markdown",
   "metadata": {},
   "source": [
    ">vi /etc/hosts  \n",
    "> vi install.sh   *just for check*"
   ]
  },
  {
   "cell_type": "markdown",
   "metadata": {},
   "source": [
    "run \n",
    ">./install.sh"
   ]
  },
  {
   "cell_type": "markdown",
   "metadata": {},
   "source": [
    "./install.sh"
   ]
  },
  {
   "cell_type": "markdown",
   "metadata": {},
   "source": [
    "### test "
   ]
  },
  {
   "cell_type": "markdown",
   "metadata": {},
   "source": [
    "pull mirror\n",
    ">docker run --name tomcat11 -d tomcat:latest  \n",
    ">\n"
   ]
  },
  {
   "cell_type": "code",
   "execution_count": null,
   "metadata": {},
   "outputs": [],
   "source": []
  }
 ],
 "metadata": {
  "kernelspec": {
   "display_name": "Python 3",
   "language": "python",
   "name": "python3"
  },
  "language_info": {
   "codemirror_mode": {
    "name": "ipython",
    "version": 3
   },
   "file_extension": ".py",
   "mimetype": "text/x-python",
   "name": "python",
   "nbconvert_exporter": "python",
   "pygments_lexer": "ipython3",
   "version": "3.6.5"
  }
 },
 "nbformat": 4,
 "nbformat_minor": 2
}
