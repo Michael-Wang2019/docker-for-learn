{
 "cells": [
  {
   "cell_type": "markdown",
   "metadata": {},
   "source": [
    "run container  \n",
    ">docker run --name mysql -d hub.c.163.com/public/centos:6.7"
   ]
  },
  {
   "cell_type": "markdown",
   "metadata": {},
   "source": [
    "check\n",
    "> docker ps\n",
    "\n",
    "into the masql(container)\n",
    ">docker exec -it mysql /bin/bash\n",
    "\n",
    "install some files\n",
    ">yum install -y mysql mysql-server\n",
    "\n"
   ]
  },
  {
   "cell_type": "markdown",
   "metadata": {},
   "source": [
    "run mysql server\n",
    ">service mysqld start"
   ]
  },
  {
   "cell_type": "markdown",
   "metadata": {},
   "source": [
    "sign up (user and password)\n",
    ">mysqladmin -uroot password 123  \n",
    "mysql -u root -p\n",
    "### -u  --user"
   ]
  },
  {
   "cell_type": "markdown",
   "metadata": {},
   "source": [
    "sign in ok"
   ]
  },
  {
   "cell_type": "markdown",
   "metadata": {},
   "source": [
    "mysql>show databases;"
   ]
  },
  {
   "cell_type": "markdown",
   "metadata": {},
   "source": [
    "make mysql a mirror\n",
    ">docker commit mysql mysql:5.1"
   ]
  },
  {
   "cell_type": "raw",
   "metadata": {},
   "source": []
  }
 ],
 "metadata": {
  "kernelspec": {
   "display_name": "Python 3",
   "language": "python",
   "name": "python3"
  },
  "language_info": {
   "codemirror_mode": {
    "name": "ipython",
    "version": 3
   },
   "file_extension": ".py",
   "mimetype": "text/x-python",
   "name": "python",
   "nbconvert_exporter": "python",
   "pygments_lexer": "ipython3",
   "version": "3.6.5"
  }
 },
 "nbformat": 4,
 "nbformat_minor": 2
}
